{
 "cells": [
  {
   "cell_type": "code",
   "execution_count": 8,
   "id": "eaa7217e-8539-46fb-84de-19964f99025a",
   "metadata": {},
   "outputs": [
    {
     "name": "stdout",
     "output_type": "stream",
     "text": [
      "X_train shape: (4000, 12)\n",
      "X_val shape: (1000, 12)\n"
     ]
    }
   ],
   "source": [
    "import pandas as pd\n",
    "from sklearn.model_selection import train_test_split\n",
    "from sklearn.preprocessing import StandardScaler\n",
    "\n",
    "# Load data\n",
    "train_df = pd.read_csv(\"/Users/keswickb/desktop/patient-readmission-project/data/train_df.csv\")\n",
    "\n",
    "# Separate features/target\n",
    "X = train_df.drop(\"readmitted\", axis=1)\n",
    "y = train_df[\"readmitted\"]\n",
    "\n",
    "# One-hot encode categorical variables\n",
    "X = pd.get_dummies(X, drop_first=True)\n",
    "\n",
    "# Train-test split\n",
    "X_train, X_val, y_train, y_val = train_test_split(\n",
    "    X, y, test_size=0.2, random_state=42\n",
    ")\n",
    "\n",
    "# Scale numeric features\n",
    "scaler = StandardScaler()\n",
    "X_train = scaler.fit_transform(X_train)\n",
    "X_val = scaler.transform(X_val)\n",
    "\n",
    "print(\"X_train shape:\", X_train.shape)\n",
    "print(\"X_val shape:\", X_val.shape)\n",
    "\n"
   ]
  },
  {
   "cell_type": "code",
   "execution_count": 9,
   "id": "f3d19918-3275-4a3b-999f-9fba86b858b1",
   "metadata": {},
   "outputs": [
    {
     "name": "stdout",
     "output_type": "stream",
     "text": [
      "Scaler saved to ../models/scaler.pkl\n"
     ]
    }
   ],
   "source": [
    "joblib.dump(scaler, \"../models/scaler.pkl\")\n",
    "print(\"Scaler saved to ../models/scaler.pkl\")"
   ]
  },
  {
   "cell_type": "code",
   "execution_count": 10,
   "id": "7d968127-46d8-4d89-9f16-461c48917907",
   "metadata": {},
   "outputs": [
    {
     "name": "stdout",
     "output_type": "stream",
     "text": [
      "✅ Saved training feature column list to ../models/feature_cols.pkl\n"
     ]
    }
   ],
   "source": [
    "import joblib\n",
    "\n",
    "feature_cols = X.columns.tolist()\n",
    "joblib.dump(feature_cols, \"../models/feature_cols.pkl\")\n",
    "print(\"✅ Saved training feature column list to ../models/feature_cols.pkl\")\n"
   ]
  }
 ],
 "metadata": {
  "kernelspec": {
   "display_name": "Python 3 (ipykernel)",
   "language": "python",
   "name": "python3"
  },
  "language_info": {
   "codemirror_mode": {
    "name": "ipython",
    "version": 3
   },
   "file_extension": ".py",
   "mimetype": "text/x-python",
   "name": "python",
   "nbconvert_exporter": "python",
   "pygments_lexer": "ipython3",
   "version": "3.10.4"
  }
 },
 "nbformat": 4,
 "nbformat_minor": 5
}
