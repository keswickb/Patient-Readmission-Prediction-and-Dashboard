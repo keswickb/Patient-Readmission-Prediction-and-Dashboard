{
 "cells": [
  {
   "cell_type": "code",
   "execution_count": 7,
   "id": "a52bf4dc-6df9-4073-8a97-19b998fb5e37",
   "metadata": {},
   "outputs": [
    {
     "name": "stdout",
     "output_type": "stream",
     "text": [
      "✅ Inference complete → ../data/submission.csv\n"
     ]
    },
    {
     "name": "stderr",
     "output_type": "stream",
     "text": [
      "/Library/Frameworks/Python.framework/Versions/3.10/lib/python3.10/site-packages/sklearn/utils/validation.py:2749: UserWarning: X does not have valid feature names, but StandardScaler was fitted with feature names\n",
      "  warnings.warn(\n"
     ]
    }
   ],
   "source": [
    "import pandas as pd\n",
    "import joblib\n",
    "import numpy as np\n",
    "\n",
    "# 1) Load artifacts\n",
    "feature_cols = joblib.load(\"../models/feature_cols.pkl\")   # saved in 02_preprocessing\n",
    "scaler       = joblib.load(\"../models/scaler.pkl\")         # saved in 02_preprocessing\n",
    "model        = joblib.load(\"../models/pipeline_model.pkl\") # saved in 03_modeling\n",
    "\n",
    "# 2) Load and OHE test\n",
    "test_df = pd.read_csv(\"../data/test_df.csv\")\n",
    "if \"readmitted\" in test_df.columns:\n",
    "    test_df = test_df.drop(columns=[\"readmitted\"])\n",
    "\n",
    "test_df = pd.get_dummies(test_df, drop_first=True)\n",
    "\n",
    "# 3) Force exact same columns (names + order) as training\n",
    "test_df = test_df.reindex(columns=feature_cols, fill_value=0)\n",
    "\n",
    "# 4) Scale using EXACT same columns in the SAME order\n",
    "#    Use .values to avoid sklearn's feature-name check errors\n",
    "X_test = scaler.transform(test_df.values)\n",
    "\n",
    "# 5) Predict\n",
    "preds = model.predict(X_test)\n",
    "probs = model.predict_proba(X_test)[:, 1]\n",
    "\n",
    "# 6) Save\n",
    "submission = pd.DataFrame({\n",
    "    \"Id\": np.arange(len(test_df)),\n",
    "    \"readmitted\": preds,\n",
    "    \"probability\": probs\n",
    "})\n",
    "submission.to_csv(\"../data/submission.csv\", index=False)\n",
    "print(\"✅ Inference complete → ../data/submission.csv\")\n"
   ]
  }
 ],
 "metadata": {
  "kernelspec": {
   "display_name": "Python 3 (ipykernel)",
   "language": "python",
   "name": "python3"
  },
  "language_info": {
   "codemirror_mode": {
    "name": "ipython",
    "version": 3
   },
   "file_extension": ".py",
   "mimetype": "text/x-python",
   "name": "python",
   "nbconvert_exporter": "python",
   "pygments_lexer": "ipython3",
   "version": "3.10.4"
  }
 },
 "nbformat": 4,
 "nbformat_minor": 5
}
